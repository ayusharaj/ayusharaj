{
 "cells": [
  {
   "cell_type": "code",
   "execution_count": 1,
   "id": "e318e7e4",
   "metadata": {
    "execution": {
     "iopub.execute_input": "2022-12-27T11:11:59.825001Z",
     "iopub.status.busy": "2022-12-27T11:11:59.823985Z",
     "iopub.status.idle": "2022-12-27T11:12:01.126312Z",
     "shell.execute_reply": "2022-12-27T11:12:01.124872Z"
    },
    "papermill": {
     "duration": 1.324672,
     "end_time": "2022-12-27T11:12:01.129488",
     "exception": false,
     "start_time": "2022-12-27T11:11:59.804816",
     "status": "completed"
    },
    "tags": []
   },
   "outputs": [],
   "source": [
    "import pandas as pd\n",
    "import numpy as np\n",
    "import matplotlib.pyplot as plt\n",
    "import seaborn as sns\n",
    "%matplotlib inline\n",
    "sns.set_style(\"whitegrid\")\n",
    "plt.style.use(\"fivethirtyeight\")"
   ]
  },
  {
   "cell_type": "code",
   "execution_count": 2,
   "id": "df2fb17c",
   "metadata": {
    "execution": {
     "iopub.execute_input": "2022-12-27T11:12:01.147272Z",
     "iopub.status.busy": "2022-12-27T11:12:01.146772Z",
     "iopub.status.idle": "2022-12-27T11:12:01.221137Z",
     "shell.execute_reply": "2022-12-27T11:12:01.219671Z"
    },
    "papermill": {
     "duration": 0.086813,
     "end_time": "2022-12-27T11:12:01.224286",
     "exception": false,
     "start_time": "2022-12-27T11:12:01.137473",
     "status": "completed"
    },
    "tags": []
   },
   "outputs": [
    {
     "data": {
      "text/html": [
       "<div>\n",
       "<style scoped>\n",
       "    .dataframe tbody tr th:only-of-type {\n",
       "        vertical-align: middle;\n",
       "    }\n",
       "\n",
       "    .dataframe tbody tr th {\n",
       "        vertical-align: top;\n",
       "    }\n",
       "\n",
       "    .dataframe thead th {\n",
       "        text-align: right;\n",
       "    }\n",
       "</style>\n",
       "<table border=\"1\" class=\"dataframe\">\n",
       "  <thead>\n",
       "    <tr style=\"text-align: right;\">\n",
       "      <th></th>\n",
       "      <th>label</th>\n",
       "      <th>message</th>\n",
       "    </tr>\n",
       "  </thead>\n",
       "  <tbody>\n",
       "    <tr>\n",
       "      <th>0</th>\n",
       "      <td>ham</td>\n",
       "      <td>Go until jurong point, crazy.. Available only ...</td>\n",
       "    </tr>\n",
       "    <tr>\n",
       "      <th>1</th>\n",
       "      <td>ham</td>\n",
       "      <td>Ok lar... Joking wif u oni...</td>\n",
       "    </tr>\n",
       "    <tr>\n",
       "      <th>2</th>\n",
       "      <td>spam</td>\n",
       "      <td>Free entry in 2 a wkly comp to win FA Cup fina...</td>\n",
       "    </tr>\n",
       "    <tr>\n",
       "      <th>3</th>\n",
       "      <td>ham</td>\n",
       "      <td>U dun say so early hor... U c already then say...</td>\n",
       "    </tr>\n",
       "    <tr>\n",
       "      <th>4</th>\n",
       "      <td>ham</td>\n",
       "      <td>Nah I don't think he goes to usf, he lives aro...</td>\n",
       "    </tr>\n",
       "  </tbody>\n",
       "</table>\n",
       "</div>"
      ],
      "text/plain": [
       "  label                                            message\n",
       "0   ham  Go until jurong point, crazy.. Available only ...\n",
       "1   ham                      Ok lar... Joking wif u oni...\n",
       "2  spam  Free entry in 2 a wkly comp to win FA Cup fina...\n",
       "3   ham  U dun say so early hor... U c already then say...\n",
       "4   ham  Nah I don't think he goes to usf, he lives aro..."
      ]
     },
     "execution_count": 2,
     "metadata": {},
     "output_type": "execute_result"
    }
   ],
   "source": [
    "sms = pd.read_csv(\"/kaggle/input/nlp-course/spam.csv\")\n",
    "sms.dropna(how=\"any\", inplace=True, axis=1)\n",
    "sms.columns = ['label', 'message']\n",
    "sms.head()"
   ]
  },
  {
   "cell_type": "code",
   "execution_count": 3,
   "id": "f46fc92d",
   "metadata": {
    "execution": {
     "iopub.execute_input": "2022-12-27T11:12:01.247733Z",
     "iopub.status.busy": "2022-12-27T11:12:01.246575Z",
     "iopub.status.idle": "2022-12-27T11:12:01.286428Z",
     "shell.execute_reply": "2022-12-27T11:12:01.284732Z"
    },
    "papermill": {
     "duration": 0.056008,
     "end_time": "2022-12-27T11:12:01.290381",
     "exception": false,
     "start_time": "2022-12-27T11:12:01.234373",
     "status": "completed"
    },
    "tags": []
   },
   "outputs": [
    {
     "data": {
      "text/html": [
       "<div>\n",
       "<style scoped>\n",
       "    .dataframe tbody tr th:only-of-type {\n",
       "        vertical-align: middle;\n",
       "    }\n",
       "\n",
       "    .dataframe tbody tr th {\n",
       "        vertical-align: top;\n",
       "    }\n",
       "\n",
       "    .dataframe thead th {\n",
       "        text-align: right;\n",
       "    }\n",
       "</style>\n",
       "<table border=\"1\" class=\"dataframe\">\n",
       "  <thead>\n",
       "    <tr style=\"text-align: right;\">\n",
       "      <th></th>\n",
       "      <th>label</th>\n",
       "      <th>message</th>\n",
       "    </tr>\n",
       "  </thead>\n",
       "  <tbody>\n",
       "    <tr>\n",
       "      <th>count</th>\n",
       "      <td>5572</td>\n",
       "      <td>5572</td>\n",
       "    </tr>\n",
       "    <tr>\n",
       "      <th>unique</th>\n",
       "      <td>2</td>\n",
       "      <td>5158</td>\n",
       "    </tr>\n",
       "    <tr>\n",
       "      <th>top</th>\n",
       "      <td>ham</td>\n",
       "      <td>Sorry, I'll call later</td>\n",
       "    </tr>\n",
       "    <tr>\n",
       "      <th>freq</th>\n",
       "      <td>4825</td>\n",
       "      <td>30</td>\n",
       "    </tr>\n",
       "  </tbody>\n",
       "</table>\n",
       "</div>"
      ],
      "text/plain": [
       "       label                 message\n",
       "count   5572                    5572\n",
       "unique     2                    5158\n",
       "top      ham  Sorry, I'll call later\n",
       "freq    4825                      30"
      ]
     },
     "execution_count": 3,
     "metadata": {},
     "output_type": "execute_result"
    }
   ],
   "source": [
    "sms.describe()"
   ]
  },
  {
   "cell_type": "code",
   "execution_count": 4,
   "id": "e68fa2ed",
   "metadata": {
    "execution": {
     "iopub.execute_input": "2022-12-27T11:12:01.318385Z",
     "iopub.status.busy": "2022-12-27T11:12:01.317908Z",
     "iopub.status.idle": "2022-12-27T11:12:01.352844Z",
     "shell.execute_reply": "2022-12-27T11:12:01.351481Z"
    },
    "papermill": {
     "duration": 0.049078,
     "end_time": "2022-12-27T11:12:01.355630",
     "exception": false,
     "start_time": "2022-12-27T11:12:01.306552",
     "status": "completed"
    },
    "tags": []
   },
   "outputs": [
    {
     "data": {
      "text/html": [
       "<div>\n",
       "<style scoped>\n",
       "    .dataframe tbody tr th:only-of-type {\n",
       "        vertical-align: middle;\n",
       "    }\n",
       "\n",
       "    .dataframe tbody tr th {\n",
       "        vertical-align: top;\n",
       "    }\n",
       "\n",
       "    .dataframe thead tr th {\n",
       "        text-align: left;\n",
       "    }\n",
       "\n",
       "    .dataframe thead tr:last-of-type th {\n",
       "        text-align: right;\n",
       "    }\n",
       "</style>\n",
       "<table border=\"1\" class=\"dataframe\">\n",
       "  <thead>\n",
       "    <tr>\n",
       "      <th></th>\n",
       "      <th colspan=\"4\" halign=\"left\">message</th>\n",
       "    </tr>\n",
       "    <tr>\n",
       "      <th></th>\n",
       "      <th>count</th>\n",
       "      <th>unique</th>\n",
       "      <th>top</th>\n",
       "      <th>freq</th>\n",
       "    </tr>\n",
       "    <tr>\n",
       "      <th>label</th>\n",
       "      <th></th>\n",
       "      <th></th>\n",
       "      <th></th>\n",
       "      <th></th>\n",
       "    </tr>\n",
       "  </thead>\n",
       "  <tbody>\n",
       "    <tr>\n",
       "      <th>ham</th>\n",
       "      <td>4825</td>\n",
       "      <td>4516</td>\n",
       "      <td>Sorry, I'll call later</td>\n",
       "      <td>30</td>\n",
       "    </tr>\n",
       "    <tr>\n",
       "      <th>spam</th>\n",
       "      <td>747</td>\n",
       "      <td>642</td>\n",
       "      <td>Please call our customer service representativ...</td>\n",
       "      <td>4</td>\n",
       "    </tr>\n",
       "  </tbody>\n",
       "</table>\n",
       "</div>"
      ],
      "text/plain": [
       "      message                                                               \n",
       "        count unique                                                top freq\n",
       "label                                                                       \n",
       "ham      4825   4516                             Sorry, I'll call later   30\n",
       "spam      747    642  Please call our customer service representativ...    4"
      ]
     },
     "execution_count": 4,
     "metadata": {},
     "output_type": "execute_result"
    }
   ],
   "source": [
    "sms.groupby('label').describe()"
   ]
  },
  {
   "cell_type": "code",
   "execution_count": 5,
   "id": "0b466b25",
   "metadata": {
    "execution": {
     "iopub.execute_input": "2022-12-27T11:12:01.374568Z",
     "iopub.status.busy": "2022-12-27T11:12:01.374088Z",
     "iopub.status.idle": "2022-12-27T11:12:01.387416Z",
     "shell.execute_reply": "2022-12-27T11:12:01.386528Z"
    },
    "papermill": {
     "duration": 0.025662,
     "end_time": "2022-12-27T11:12:01.389690",
     "exception": false,
     "start_time": "2022-12-27T11:12:01.364028",
     "status": "completed"
    },
    "tags": []
   },
   "outputs": [
    {
     "data": {
      "text/html": [
       "<div>\n",
       "<style scoped>\n",
       "    .dataframe tbody tr th:only-of-type {\n",
       "        vertical-align: middle;\n",
       "    }\n",
       "\n",
       "    .dataframe tbody tr th {\n",
       "        vertical-align: top;\n",
       "    }\n",
       "\n",
       "    .dataframe thead th {\n",
       "        text-align: right;\n",
       "    }\n",
       "</style>\n",
       "<table border=\"1\" class=\"dataframe\">\n",
       "  <thead>\n",
       "    <tr style=\"text-align: right;\">\n",
       "      <th></th>\n",
       "      <th>label</th>\n",
       "      <th>message</th>\n",
       "      <th>label_num</th>\n",
       "    </tr>\n",
       "  </thead>\n",
       "  <tbody>\n",
       "    <tr>\n",
       "      <th>0</th>\n",
       "      <td>ham</td>\n",
       "      <td>Go until jurong point, crazy.. Available only ...</td>\n",
       "      <td>0</td>\n",
       "    </tr>\n",
       "    <tr>\n",
       "      <th>1</th>\n",
       "      <td>ham</td>\n",
       "      <td>Ok lar... Joking wif u oni...</td>\n",
       "      <td>0</td>\n",
       "    </tr>\n",
       "    <tr>\n",
       "      <th>2</th>\n",
       "      <td>spam</td>\n",
       "      <td>Free entry in 2 a wkly comp to win FA Cup fina...</td>\n",
       "      <td>1</td>\n",
       "    </tr>\n",
       "    <tr>\n",
       "      <th>3</th>\n",
       "      <td>ham</td>\n",
       "      <td>U dun say so early hor... U c already then say...</td>\n",
       "      <td>0</td>\n",
       "    </tr>\n",
       "    <tr>\n",
       "      <th>4</th>\n",
       "      <td>ham</td>\n",
       "      <td>Nah I don't think he goes to usf, he lives aro...</td>\n",
       "      <td>0</td>\n",
       "    </tr>\n",
       "  </tbody>\n",
       "</table>\n",
       "</div>"
      ],
      "text/plain": [
       "  label                                            message  label_num\n",
       "0   ham  Go until jurong point, crazy.. Available only ...          0\n",
       "1   ham                      Ok lar... Joking wif u oni...          0\n",
       "2  spam  Free entry in 2 a wkly comp to win FA Cup fina...          1\n",
       "3   ham  U dun say so early hor... U c already then say...          0\n",
       "4   ham  Nah I don't think he goes to usf, he lives aro...          0"
      ]
     },
     "execution_count": 5,
     "metadata": {},
     "output_type": "execute_result"
    }
   ],
   "source": [
    "# convert label to a numerical variable\n",
    "sms['label_num'] = sms.label.map({'ham':0, 'spam':1})\n",
    "sms.head()"
   ]
  },
  {
   "cell_type": "code",
   "execution_count": 6,
   "id": "07af4452",
   "metadata": {
    "execution": {
     "iopub.execute_input": "2022-12-27T11:12:01.411604Z",
     "iopub.status.busy": "2022-12-27T11:12:01.411190Z",
     "iopub.status.idle": "2022-12-27T11:12:01.426032Z",
     "shell.execute_reply": "2022-12-27T11:12:01.424942Z"
    },
    "papermill": {
     "duration": 0.027765,
     "end_time": "2022-12-27T11:12:01.428438",
     "exception": false,
     "start_time": "2022-12-27T11:12:01.400673",
     "status": "completed"
    },
    "tags": []
   },
   "outputs": [
    {
     "data": {
      "text/html": [
       "<div>\n",
       "<style scoped>\n",
       "    .dataframe tbody tr th:only-of-type {\n",
       "        vertical-align: middle;\n",
       "    }\n",
       "\n",
       "    .dataframe tbody tr th {\n",
       "        vertical-align: top;\n",
       "    }\n",
       "\n",
       "    .dataframe thead th {\n",
       "        text-align: right;\n",
       "    }\n",
       "</style>\n",
       "<table border=\"1\" class=\"dataframe\">\n",
       "  <thead>\n",
       "    <tr style=\"text-align: right;\">\n",
       "      <th></th>\n",
       "      <th>label</th>\n",
       "      <th>message</th>\n",
       "      <th>label_num</th>\n",
       "      <th>message_len</th>\n",
       "    </tr>\n",
       "  </thead>\n",
       "  <tbody>\n",
       "    <tr>\n",
       "      <th>0</th>\n",
       "      <td>ham</td>\n",
       "      <td>Go until jurong point, crazy.. Available only ...</td>\n",
       "      <td>0</td>\n",
       "      <td>111</td>\n",
       "    </tr>\n",
       "    <tr>\n",
       "      <th>1</th>\n",
       "      <td>ham</td>\n",
       "      <td>Ok lar... Joking wif u oni...</td>\n",
       "      <td>0</td>\n",
       "      <td>29</td>\n",
       "    </tr>\n",
       "    <tr>\n",
       "      <th>2</th>\n",
       "      <td>spam</td>\n",
       "      <td>Free entry in 2 a wkly comp to win FA Cup fina...</td>\n",
       "      <td>1</td>\n",
       "      <td>155</td>\n",
       "    </tr>\n",
       "    <tr>\n",
       "      <th>3</th>\n",
       "      <td>ham</td>\n",
       "      <td>U dun say so early hor... U c already then say...</td>\n",
       "      <td>0</td>\n",
       "      <td>49</td>\n",
       "    </tr>\n",
       "    <tr>\n",
       "      <th>4</th>\n",
       "      <td>ham</td>\n",
       "      <td>Nah I don't think he goes to usf, he lives aro...</td>\n",
       "      <td>0</td>\n",
       "      <td>61</td>\n",
       "    </tr>\n",
       "  </tbody>\n",
       "</table>\n",
       "</div>"
      ],
      "text/plain": [
       "  label                                            message  label_num  \\\n",
       "0   ham  Go until jurong point, crazy.. Available only ...          0   \n",
       "1   ham                      Ok lar... Joking wif u oni...          0   \n",
       "2  spam  Free entry in 2 a wkly comp to win FA Cup fina...          1   \n",
       "3   ham  U dun say so early hor... U c already then say...          0   \n",
       "4   ham  Nah I don't think he goes to usf, he lives aro...          0   \n",
       "\n",
       "   message_len  \n",
       "0          111  \n",
       "1           29  \n",
       "2          155  \n",
       "3           49  \n",
       "4           61  "
      ]
     },
     "execution_count": 6,
     "metadata": {},
     "output_type": "execute_result"
    }
   ],
   "source": [
    "sms['message_len'] = sms.message.apply(len)\n",
    "sms.head()"
   ]
  },
  {
   "cell_type": "code",
   "execution_count": 7,
   "id": "f0103253",
   "metadata": {
    "execution": {
     "iopub.execute_input": "2022-12-27T11:12:01.448253Z",
     "iopub.status.busy": "2022-12-27T11:12:01.447852Z",
     "iopub.status.idle": "2022-12-27T11:12:01.938939Z",
     "shell.execute_reply": "2022-12-27T11:12:01.937527Z"
    },
    "papermill": {
     "duration": 0.504473,
     "end_time": "2022-12-27T11:12:01.942102",
     "exception": false,
     "start_time": "2022-12-27T11:12:01.437629",
     "status": "completed"
    },
    "tags": []
   },
   "outputs": [
    {
     "data": {
      "text/plain": [
       "Text(0.5, 0, 'Message Length')"
      ]
     },
     "execution_count": 7,
     "metadata": {},
     "output_type": "execute_result"
    },
    {
     "data": {
      "image/png": "[encoded data removed]",
      "text/plain": [
       "<Figure size 864x576 with 1 Axes>"
      ]
     },
     "metadata": {},
     "output_type": "display_data"
    }
   ],
   "source": [
    "plt.figure(figsize=(12, 8))\n",
    "\n",
    "sms[sms.label=='ham'].message_len.plot(bins=35, kind='hist', color='blue', \n",
    "                                       label='Ham messages', alpha=0.6)\n",
    "sms[sms.label=='spam'].message_len.plot(kind='hist', color='red', \n",
    "                                       label='Spam messages', alpha=0.6)\n",
    "plt.legend()\n",
    "plt.xlabel(\"Message Length\")"
   ]
  },
  {
   "cell_type": "code",
   "execution_count": 8,
   "id": "19ac9190",
   "metadata": {
    "execution": {
     "iopub.execute_input": "2022-12-27T11:12:01.964030Z",
     "iopub.status.busy": "2022-12-27T11:12:01.963605Z",
     "iopub.status.idle": "2022-12-27T11:12:01.988812Z",
     "shell.execute_reply": "2022-12-27T11:12:01.987583Z"
    },
    "papermill": {
     "duration": 0.038824,
     "end_time": "2022-12-27T11:12:01.991372",
     "exception": false,
     "start_time": "2022-12-27T11:12:01.952548",
     "status": "completed"
    },
    "tags": []
   },
   "outputs": [
    {
     "data": {
      "text/html": [
       "<div>\n",
       "<style scoped>\n",
       "    .dataframe tbody tr th:only-of-type {\n",
       "        vertical-align: middle;\n",
       "    }\n",
       "\n",
       "    .dataframe tbody tr th {\n",
       "        vertical-align: top;\n",
       "    }\n",
       "\n",
       "    .dataframe thead th {\n",
       "        text-align: right;\n",
       "    }\n",
       "</style>\n",
       "<table border=\"1\" class=\"dataframe\">\n",
       "  <thead>\n",
       "    <tr style=\"text-align: right;\">\n",
       "      <th></th>\n",
       "      <th>label_num</th>\n",
       "      <th>message_len</th>\n",
       "    </tr>\n",
       "  </thead>\n",
       "  <tbody>\n",
       "    <tr>\n",
       "      <th>count</th>\n",
       "      <td>4825.0</td>\n",
       "      <td>4825.000000</td>\n",
       "    </tr>\n",
       "    <tr>\n",
       "      <th>mean</th>\n",
       "      <td>0.0</td>\n",
       "      <td>71.014715</td>\n",
       "    </tr>\n",
       "    <tr>\n",
       "      <th>std</th>\n",
       "      <td>0.0</td>\n",
       "      <td>58.011286</td>\n",
       "    </tr>\n",
       "    <tr>\n",
       "      <th>min</th>\n",
       "      <td>0.0</td>\n",
       "      <td>2.000000</td>\n",
       "    </tr>\n",
       "    <tr>\n",
       "      <th>25%</th>\n",
       "      <td>0.0</td>\n",
       "      <td>33.000000</td>\n",
       "    </tr>\n",
       "    <tr>\n",
       "      <th>50%</th>\n",
       "      <td>0.0</td>\n",
       "      <td>52.000000</td>\n",
       "    </tr>\n",
       "    <tr>\n",
       "      <th>75%</th>\n",
       "      <td>0.0</td>\n",
       "      <td>92.000000</td>\n",
       "    </tr>\n",
       "    <tr>\n",
       "      <th>max</th>\n",
       "      <td>0.0</td>\n",
       "      <td>910.000000</td>\n",
       "    </tr>\n",
       "  </tbody>\n",
       "</table>\n",
       "</div>"
      ],
      "text/plain": [
       "       label_num  message_len\n",
       "count     4825.0  4825.000000\n",
       "mean         0.0    71.014715\n",
       "std          0.0    58.011286\n",
       "min          0.0     2.000000\n",
       "25%          0.0    33.000000\n",
       "50%          0.0    52.000000\n",
       "75%          0.0    92.000000\n",
       "max          0.0   910.000000"
      ]
     },
     "execution_count": 8,
     "metadata": {},
     "output_type": "execute_result"
    }
   ],
   "source": [
    "sms[sms.label=='ham'].describe()"
   ]
  },
  {
   "cell_type": "code",
   "execution_count": 9,
   "id": "bc8979ca",
   "metadata": {
    "execution": {
     "iopub.execute_input": "2022-12-27T11:12:02.014590Z",
     "iopub.status.busy": "2022-12-27T11:12:02.014139Z",
     "iopub.status.idle": "2022-12-27T11:12:02.035005Z",
     "shell.execute_reply": "2022-12-27T11:12:02.033932Z"
    },
    "papermill": {
     "duration": 0.035728,
     "end_time": "2022-12-27T11:12:02.037612",
     "exception": false,
     "start_time": "2022-12-27T11:12:02.001884",
     "status": "completed"
    },
    "tags": []
   },
   "outputs": [
    {
     "data": {
      "text/html": [
       "<div>\n",
       "<style scoped>\n",
       "    .dataframe tbody tr th:only-of-type {\n",
       "        vertical-align: middle;\n",
       "    }\n",
       "\n",
       "    .dataframe tbody tr th {\n",
       "        vertical-align: top;\n",
       "    }\n",
       "\n",
       "    .dataframe thead th {\n",
       "        text-align: right;\n",
       "    }\n",
       "</style>\n",
       "<table border=\"1\" class=\"dataframe\">\n",
       "  <thead>\n",
       "    <tr style=\"text-align: right;\">\n",
       "      <th></th>\n",
       "      <th>label_num</th>\n",
       "      <th>message_len</th>\n",
       "    </tr>\n",
       "  </thead>\n",
       "  <tbody>\n",
       "    <tr>\n",
       "      <th>count</th>\n",
       "      <td>747.0</td>\n",
       "      <td>747.000000</td>\n",
       "    </tr>\n",
       "    <tr>\n",
       "      <th>mean</th>\n",
       "      <td>1.0</td>\n",
       "      <td>138.824632</td>\n",
       "    </tr>\n",
       "    <tr>\n",
       "      <th>std</th>\n",
       "      <td>0.0</td>\n",
       "      <td>29.165701</td>\n",
       "    </tr>\n",
       "    <tr>\n",
       "      <th>min</th>\n",
       "      <td>1.0</td>\n",
       "      <td>13.000000</td>\n",
       "    </tr>\n",
       "    <tr>\n",
       "      <th>25%</th>\n",
       "      <td>1.0</td>\n",
       "      <td>132.500000</td>\n",
       "    </tr>\n",
       "    <tr>\n",
       "      <th>50%</th>\n",
       "      <td>1.0</td>\n",
       "      <td>149.000000</td>\n",
       "    </tr>\n",
       "    <tr>\n",
       "      <th>75%</th>\n",
       "      <td>1.0</td>\n",
       "      <td>157.000000</td>\n",
       "    </tr>\n",
       "    <tr>\n",
       "      <th>max</th>\n",
       "      <td>1.0</td>\n",
       "      <td>224.000000</td>\n",
       "    </tr>\n",
       "  </tbody>\n",
       "</table>\n",
       "</div>"
      ],
      "text/plain": [
       "       label_num  message_len\n",
       "count      747.0   747.000000\n",
       "mean         1.0   138.824632\n",
       "std          0.0    29.165701\n",
       "min          1.0    13.000000\n",
       "25%          1.0   132.500000\n",
       "50%          1.0   149.000000\n",
       "75%          1.0   157.000000\n",
       "max          1.0   224.000000"
      ]
     },
     "execution_count": 9,
     "metadata": {},
     "output_type": "execute_result"
    }
   ],
   "source": [
    "sms[sms.label=='spam'].describe()"
   ]
  },
  {
   "cell_type": "code",
   "execution_count": 10,
   "id": "eaa84876",
   "metadata": {
    "execution": {
     "iopub.execute_input": "2022-12-27T11:12:02.060640Z",
     "iopub.status.busy": "2022-12-27T11:12:02.060037Z",
     "iopub.status.idle": "2022-12-27T11:12:02.070088Z",
     "shell.execute_reply": "2022-12-27T11:12:02.068692Z"
    },
    "papermill": {
     "duration": 0.024548,
     "end_time": "2022-12-27T11:12:02.072660",
     "exception": false,
     "start_time": "2022-12-27T11:12:02.048112",
     "status": "completed"
    },
    "tags": []
   },
   "outputs": [
    {
     "data": {
      "text/plain": [
       "\"For me the love should start with attraction.i should feel that I need her every time around me.she should be the first thing which comes in my thoughts.I would start the day and end it with her.she should be there every time I dream.love will be then when my every breath has her name.my life should happen around her.my life will be named to her.I would cry for her.will give all my happiness and take all her sorrows.I will be ready to fight with anyone for her.I will be in love when I will be doing the craziest things for her.love will be when I don't have to proove anyone that my girl is the most beautiful lady on the whole planet.I will always be singing praises for her.love will be when I start up making chicken curry and end up makiing sambar.life will be the most beautiful then.will get every morning and thank god for the day because she is with me.I would like to say a lot..will tell later..\""
      ]
     },
     "execution_count": 10,
     "metadata": {},
     "output_type": "execute_result"
    }
   ],
   "source": [
    "sms[sms.message_len == 910].message.iloc[0]"
   ]
  },
  {
   "cell_type": "markdown",
   "id": "d06ae59f",
   "metadata": {
    "papermill": {
     "duration": 0.010338,
     "end_time": "2022-12-27T11:12:02.093698",
     "exception": false,
     "start_time": "2022-12-27T11:12:02.083360",
     "status": "completed"
    },
    "tags": []
   },
   "source": [
    "# Text Pre-processing"
   ]
  },
  {
   "cell_type": "code",
   "execution_count": 11,
   "id": "0f1243ed",
   "metadata": {
    "execution": {
     "iopub.execute_input": "2022-12-27T11:12:02.117209Z",
     "iopub.status.busy": "2022-12-27T11:12:02.116756Z",
     "iopub.status.idle": "2022-12-27T11:12:03.008598Z",
     "shell.execute_reply": "2022-12-27T11:12:03.007326Z"
    },
    "papermill": {
     "duration": 0.907316,
     "end_time": "2022-12-27T11:12:03.011757",
     "exception": false,
     "start_time": "2022-12-27T11:12:02.104441",
     "status": "completed"
    },
    "tags": []
   },
   "outputs": [],
   "source": [
    "import string\n",
    "from nltk.corpus import stopwords\n",
    "\n",
    "def text_process(mess):\n",
    "    \"\"\"\n",
    "    Takes in a string of text, then performs the following:\n",
    "    1. Remove all punctuation\n",
    "    2. Remove all stopwords\n",
    "    3. Returns a list of the cleaned text\n",
    "    \"\"\"\n",
    "    STOPWORDS = stopwords.words('english') + ['u', 'ü', 'ur', '4', '2', 'im', 'dont', 'doin', 'ure']\n",
    "    # Check characters to see if they are in punctuation\n",
    "    nopunc = [char for char in mess if char not in string.punctuation]\n",
    "\n",
    "    # Join the characters again to form the string.\n",
    "    nopunc = ''.join(nopunc)\n",
    "    \n",
    "    # Now just remove any stopwords\n",
    "    return ' '.join([word for word in nopunc.split() if word.lower() not in STOPWORDS])"
   ]
  },
  {
   "cell_type": "code",
   "execution_count": 12,
   "id": "4c0def62",
   "metadata": {
    "execution": {
     "iopub.execute_input": "2022-12-27T11:12:03.038556Z",
     "iopub.status.busy": "2022-12-27T11:12:03.037169Z",
     "iopub.status.idle": "2022-12-27T11:12:03.051833Z",
     "shell.execute_reply": "2022-12-27T11:12:03.049948Z"
    },
    "papermill": {
     "duration": 0.031825,
     "end_time": "2022-12-27T11:12:03.055174",
     "exception": false,
     "start_time": "2022-12-27T11:12:03.023349",
     "status": "completed"
    },
    "tags": []
   },
   "outputs": [
    {
     "data": {
      "text/html": [
       "<div>\n",
       "<style scoped>\n",
       "    .dataframe tbody tr th:only-of-type {\n",
       "        vertical-align: middle;\n",
       "    }\n",
       "\n",
       "    .dataframe tbody tr th {\n",
       "        vertical-align: top;\n",
       "    }\n",
       "\n",
       "    .dataframe thead th {\n",
       "        text-align: right;\n",
       "    }\n",
       "</style>\n",
       "<table border=\"1\" class=\"dataframe\">\n",
       "  <thead>\n",
       "    <tr style=\"text-align: right;\">\n",
       "      <th></th>\n",
       "      <th>label</th>\n",
       "      <th>message</th>\n",
       "      <th>label_num</th>\n",
       "      <th>message_len</th>\n",
       "    </tr>\n",
       "  </thead>\n",
       "  <tbody>\n",
       "    <tr>\n",
       "      <th>0</th>\n",
       "      <td>ham</td>\n",
       "      <td>Go until jurong point, crazy.. Available only ...</td>\n",
       "      <td>0</td>\n",
       "      <td>111</td>\n",
       "    </tr>\n",
       "    <tr>\n",
       "      <th>1</th>\n",
       "      <td>ham</td>\n",
       "      <td>Ok lar... Joking wif u oni...</td>\n",
       "      <td>0</td>\n",
       "      <td>29</td>\n",
       "    </tr>\n",
       "    <tr>\n",
       "      <th>2</th>\n",
       "      <td>spam</td>\n",
       "      <td>Free entry in 2 a wkly comp to win FA Cup fina...</td>\n",
       "      <td>1</td>\n",
       "      <td>155</td>\n",
       "    </tr>\n",
       "    <tr>\n",
       "      <th>3</th>\n",
       "      <td>ham</td>\n",
       "      <td>U dun say so early hor... U c already then say...</td>\n",
       "      <td>0</td>\n",
       "      <td>49</td>\n",
       "    </tr>\n",
       "    <tr>\n",
       "      <th>4</th>\n",
       "      <td>ham</td>\n",
       "      <td>Nah I don't think he goes to usf, he lives aro...</td>\n",
       "      <td>0</td>\n",
       "      <td>61</td>\n",
       "    </tr>\n",
       "  </tbody>\n",
       "</table>\n",
       "</div>"
      ],
      "text/plain": [
       "  label                                            message  label_num  \\\n",
       "0   ham  Go until jurong point, crazy.. Available only ...          0   \n",
       "1   ham                      Ok lar... Joking wif u oni...          0   \n",
       "2  spam  Free entry in 2 a wkly comp to win FA Cup fina...          1   \n",
       "3   ham  U dun say so early hor... U c already then say...          0   \n",
       "4   ham  Nah I don't think he goes to usf, he lives aro...          0   \n",
       "\n",
       "   message_len  \n",
       "0          111  \n",
       "1           29  \n",
       "2          155  \n",
       "3           49  \n",
       "4           61  "
      ]
     },
     "execution_count": 12,
     "metadata": {},
     "output_type": "execute_result"
    }
   ],
   "source": [
    "sms.head()"
   ]
  },
  {
   "cell_type": "code",
   "execution_count": 13,
   "id": "e568a17e",
   "metadata": {
    "execution": {
     "iopub.execute_input": "2022-12-27T11:12:03.081043Z",
     "iopub.status.busy": "2022-12-27T11:12:03.080605Z",
     "iopub.status.idle": "2022-12-27T11:12:04.202567Z",
     "shell.execute_reply": "2022-12-27T11:12:04.200847Z"
    },
    "papermill": {
     "duration": 1.139229,
     "end_time": "2022-12-27T11:12:04.206321",
     "exception": false,
     "start_time": "2022-12-27T11:12:03.067092",
     "status": "completed"
    },
    "tags": []
   },
   "outputs": [],
   "source": [
    "sms['clean_msg'] = sms.message.apply(text_process)"
   ]
  },
  {
   "cell_type": "code",
   "execution_count": 14,
   "id": "d09df51e",
   "metadata": {
    "execution": {
     "iopub.execute_input": "2022-12-27T11:12:04.232237Z",
     "iopub.status.busy": "2022-12-27T11:12:04.231819Z",
     "iopub.status.idle": "2022-12-27T11:12:04.245684Z",
     "shell.execute_reply": "2022-12-27T11:12:04.244045Z"
    },
    "papermill": {
     "duration": 0.030086,
     "end_time": "2022-12-27T11:12:04.249123",
     "exception": false,
     "start_time": "2022-12-27T11:12:04.219037",
     "status": "completed"
    },
    "tags": []
   },
   "outputs": [
    {
     "data": {
      "text/html": [
       "<div>\n",
       "<style scoped>\n",
       "    .dataframe tbody tr th:only-of-type {\n",
       "        vertical-align: middle;\n",
       "    }\n",
       "\n",
       "    .dataframe tbody tr th {\n",
       "        vertical-align: top;\n",
       "    }\n",
       "\n",
       "    .dataframe thead th {\n",
       "        text-align: right;\n",
       "    }\n",
       "</style>\n",
       "<table border=\"1\" class=\"dataframe\">\n",
       "  <thead>\n",
       "    <tr style=\"text-align: right;\">\n",
       "      <th></th>\n",
       "      <th>label</th>\n",
       "      <th>message</th>\n",
       "      <th>label_num</th>\n",
       "      <th>message_len</th>\n",
       "      <th>clean_msg</th>\n",
       "    </tr>\n",
       "  </thead>\n",
       "  <tbody>\n",
       "    <tr>\n",
       "      <th>0</th>\n",
       "      <td>ham</td>\n",
       "      <td>Go until jurong point, crazy.. Available only ...</td>\n",
       "      <td>0</td>\n",
       "      <td>111</td>\n",
       "      <td>Go jurong point crazy Available bugis n great ...</td>\n",
       "    </tr>\n",
       "    <tr>\n",
       "      <th>1</th>\n",
       "      <td>ham</td>\n",
       "      <td>Ok lar... Joking wif u oni...</td>\n",
       "      <td>0</td>\n",
       "      <td>29</td>\n",
       "      <td>Ok lar Joking wif oni</td>\n",
       "    </tr>\n",
       "    <tr>\n",
       "      <th>2</th>\n",
       "      <td>spam</td>\n",
       "      <td>Free entry in 2 a wkly comp to win FA Cup fina...</td>\n",
       "      <td>1</td>\n",
       "      <td>155</td>\n",
       "      <td>Free entry wkly comp win FA Cup final tkts 21s...</td>\n",
       "    </tr>\n",
       "    <tr>\n",
       "      <th>3</th>\n",
       "      <td>ham</td>\n",
       "      <td>U dun say so early hor... U c already then say...</td>\n",
       "      <td>0</td>\n",
       "      <td>49</td>\n",
       "      <td>dun say early hor c already say</td>\n",
       "    </tr>\n",
       "    <tr>\n",
       "      <th>4</th>\n",
       "      <td>ham</td>\n",
       "      <td>Nah I don't think he goes to usf, he lives aro...</td>\n",
       "      <td>0</td>\n",
       "      <td>61</td>\n",
       "      <td>Nah think goes usf lives around though</td>\n",
       "    </tr>\n",
       "  </tbody>\n",
       "</table>\n",
       "</div>"
      ],
      "text/plain": [
       "  label                                            message  label_num  \\\n",
       "0   ham  Go until jurong point, crazy.. Available only ...          0   \n",
       "1   ham                      Ok lar... Joking wif u oni...          0   \n",
       "2  spam  Free entry in 2 a wkly comp to win FA Cup fina...          1   \n",
       "3   ham  U dun say so early hor... U c already then say...          0   \n",
       "4   ham  Nah I don't think he goes to usf, he lives aro...          0   \n",
       "\n",
       "   message_len                                          clean_msg  \n",
       "0          111  Go jurong point crazy Available bugis n great ...  \n",
       "1           29                              Ok lar Joking wif oni  \n",
       "2          155  Free entry wkly comp win FA Cup final tkts 21s...  \n",
       "3           49                    dun say early hor c already say  \n",
       "4           61             Nah think goes usf lives around though  "
      ]
     },
     "execution_count": 14,
     "metadata": {},
     "output_type": "execute_result"
    }
   ],
   "source": [
    "sms.head()"
   ]
  },
  {
   "cell_type": "code",
   "execution_count": 15,
   "id": "bd43c119",
   "metadata": {
    "execution": {
     "iopub.execute_input": "2022-12-27T11:12:04.275828Z",
     "iopub.status.busy": "2022-12-27T11:12:04.275406Z",
     "iopub.status.idle": "2022-12-27T11:12:04.316919Z",
     "shell.execute_reply": "2022-12-27T11:12:04.315255Z"
    },
    "papermill": {
     "duration": 0.05798,
     "end_time": "2022-12-27T11:12:04.319682",
     "exception": false,
     "start_time": "2022-12-27T11:12:04.261702",
     "status": "completed"
    },
    "tags": []
   },
   "outputs": [
    {
     "name": "stdout",
     "output_type": "stream",
     "text": [
      "[('get', 303), ('ltgt', 276), ('ok', 272), ('go', 247), ('ill', 236), ('know', 232), ('got', 231), ('like', 229), ('call', 229), ('come', 224), ('good', 222), ('time', 189), ('day', 187), ('love', 185), ('going', 167), ('want', 163), ('one', 162), ('home', 160), ('lor', 160), ('need', 156), ('sorry', 153), ('still', 146), ('see', 137), ('n', 134), ('later', 134), ('da', 131), ('r', 131), ('back', 129), ('think', 128), ('well', 126), ('today', 125), ('send', 123), ('tell', 121), ('cant', 118), ('ì', 117), ('hi', 117), ('take', 112), ('much', 112), ('oh', 111), ('night', 107), ('hey', 106), ('happy', 105), ('great', 100), ('way', 100), ('hope', 99), ('pls', 98), ('work', 96), ('wat', 95), ('thats', 94), ('dear', 94)]\n"
     ]
    }
   ],
   "source": [
    "from collections import Counter\n",
    "\n",
    "words = sms[sms.label=='ham'].clean_msg.apply(lambda x: [word.lower() for word in x.split()])\n",
    "ham_words = Counter()\n",
    "\n",
    "for msg in words:\n",
    "    ham_words.update(msg)\n",
    "    \n",
    "print(ham_words.most_common(50))"
   ]
  },
  {
   "cell_type": "code",
   "execution_count": 16,
   "id": "8bcaf6c5",
   "metadata": {
    "execution": {
     "iopub.execute_input": "2022-12-27T11:12:04.344827Z",
     "iopub.status.busy": "2022-12-27T11:12:04.344398Z",
     "iopub.status.idle": "2022-12-27T11:12:04.362854Z",
     "shell.execute_reply": "2022-12-27T11:12:04.361381Z"
    },
    "papermill": {
     "duration": 0.034854,
     "end_time": "2022-12-27T11:12:04.366057",
     "exception": false,
     "start_time": "2022-12-27T11:12:04.331203",
     "status": "completed"
    },
    "tags": []
   },
   "outputs": [
    {
     "name": "stdout",
     "output_type": "stream",
     "text": [
      "[('call', 347), ('free', 216), ('txt', 150), ('mobile', 123), ('text', 120), ('claim', 113), ('stop', 113), ('reply', 101), ('prize', 92), ('get', 83), ('new', 69), ('send', 67), ('nokia', 65), ('urgent', 63), ('cash', 62), ('win', 60), ('contact', 56), ('service', 55), ('please', 52), ('guaranteed', 50), ('customer', 49), ('16', 49), ('week', 49), ('tone', 48), ('per', 46), ('phone', 45), ('18', 43), ('chat', 42), ('awarded', 38), ('draw', 38), ('latest', 36), ('å£1000', 35), ('line', 35), ('150ppm', 34), ('mins', 34), ('receive', 33), ('camera', 33), ('1', 33), ('every', 33), ('message', 32), ('holiday', 32), ('landline', 32), ('shows', 31), ('å£2000', 31), ('go', 31), ('box', 30), ('number', 30), ('apply', 29), ('code', 29), ('live', 29)]\n"
     ]
    }
   ],
   "source": [
    "words = sms[sms.label=='spam'].clean_msg.apply(lambda x: [word.lower() for word in x.split()])\n",
    "spam_words = Counter()\n",
    "\n",
    "for msg in words:\n",
    "    spam_words.update(msg)\n",
    "    \n",
    "print(spam_words.most_common(50))"
   ]
  },
  {
   "cell_type": "markdown",
   "id": "0395106c",
   "metadata": {
    "papermill": {
     "duration": 0.010722,
     "end_time": "2022-12-27T11:12:04.388641",
     "exception": false,
     "start_time": "2022-12-27T11:12:04.377919",
     "status": "completed"
    },
    "tags": []
   },
   "source": [
    "# Vectorization"
   ]
  },
  {
   "cell_type": "code",
   "execution_count": 17,
   "id": "da3bcf9d",
   "metadata": {
    "execution": {
     "iopub.execute_input": "2022-12-27T11:12:04.412935Z",
     "iopub.status.busy": "2022-12-27T11:12:04.412467Z",
     "iopub.status.idle": "2022-12-27T11:12:04.419754Z",
     "shell.execute_reply": "2022-12-27T11:12:04.418539Z"
    },
    "papermill": {
     "duration": 0.022795,
     "end_time": "2022-12-27T11:12:04.422498",
     "exception": false,
     "start_time": "2022-12-27T11:12:04.399703",
     "status": "completed"
    },
    "tags": []
   },
   "outputs": [
    {
     "name": "stdout",
     "output_type": "stream",
     "text": [
      "(5572,)\n",
      "(5572,)\n"
     ]
    }
   ],
   "source": [
    "# how to define X and y (from the SMS data) for use with COUNTVECTORIZER\n",
    "X = sms.clean_msg\n",
    "y = sms.label_num\n",
    "print(X.shape)\n",
    "print(y.shape)"
   ]
  },
  {
   "cell_type": "code",
   "execution_count": 18,
   "id": "73acf1ab",
   "metadata": {
    "execution": {
     "iopub.execute_input": "2022-12-27T11:12:04.446681Z",
     "iopub.status.busy": "2022-12-27T11:12:04.446247Z",
     "iopub.status.idle": "2022-12-27T11:12:04.458662Z",
     "shell.execute_reply": "2022-12-27T11:12:04.456906Z"
    },
    "papermill": {
     "duration": 0.02786,
     "end_time": "2022-12-27T11:12:04.461557",
     "exception": false,
     "start_time": "2022-12-27T11:12:04.433697",
     "status": "completed"
    },
    "tags": []
   },
   "outputs": [
    {
     "name": "stdout",
     "output_type": "stream",
     "text": [
      "(4179,)\n",
      "(1393,)\n",
      "(4179,)\n",
      "(1393,)\n"
     ]
    }
   ],
   "source": [
    "# split X and y into training and testing sets \n",
    "from sklearn.model_selection import train_test_split\n",
    "X_train, X_test, y_train, y_test = train_test_split(X, y, random_state=1)\n",
    "print(X_train.shape)\n",
    "print(X_test.shape)\n",
    "print(y_train.shape)\n",
    "print(y_test.shape)"
   ]
  },
  {
   "cell_type": "markdown",
   "id": "0e8e8f8d",
   "metadata": {
    "papermill": {
     "duration": 0.010981,
     "end_time": "2022-12-27T11:12:04.483984",
     "exception": false,
     "start_time": "2022-12-27T11:12:04.473003",
     "status": "completed"
    },
    "tags": []
   },
   "source": [
    "There are a lot of arguments and parameters that can be passed to the CountVectorizer. In this case we will just specify the analyzer to be our own previously defined function:"
   ]
  },
  {
   "cell_type": "code",
   "execution_count": 19,
   "id": "2a84b015",
   "metadata": {
    "execution": {
     "iopub.execute_input": "2022-12-27T11:12:04.509179Z",
     "iopub.status.busy": "2022-12-27T11:12:04.508688Z",
     "iopub.status.idle": "2022-12-27T11:12:04.588510Z",
     "shell.execute_reply": "2022-12-27T11:12:04.587217Z"
    },
    "papermill": {
     "duration": 0.095364,
     "end_time": "2022-12-27T11:12:04.591178",
     "exception": false,
     "start_time": "2022-12-27T11:12:04.495814",
     "status": "completed"
    },
    "tags": []
   },
   "outputs": [
    {
     "data": {
      "text/plain": [
       "CountVectorizer()"
      ]
     },
     "execution_count": 19,
     "metadata": {},
     "output_type": "execute_result"
    }
   ],
   "source": [
    "from sklearn.feature_extraction.text import CountVectorizer\n",
    "\n",
    "# instantiate the vectorizer\n",
    "vect = CountVectorizer()\n",
    "vect.fit(X_train)"
   ]
  },
  {
   "cell_type": "code",
   "execution_count": 20,
   "id": "8b6ea798",
   "metadata": {
    "execution": {
     "iopub.execute_input": "2022-12-27T11:12:04.617157Z",
     "iopub.status.busy": "2022-12-27T11:12:04.616757Z",
     "iopub.status.idle": "2022-12-27T11:12:04.672032Z",
     "shell.execute_reply": "2022-12-27T11:12:04.670618Z"
    },
    "papermill": {
     "duration": 0.072203,
     "end_time": "2022-12-27T11:12:04.675287",
     "exception": false,
     "start_time": "2022-12-27T11:12:04.603084",
     "status": "completed"
    },
    "tags": []
   },
   "outputs": [],
   "source": [
    "# learn training data vocabulary, then use it to create a document-term matrix\n",
    "X_train_dtm = vect.transform(X_train)"
   ]
  },
  {
   "cell_type": "code",
   "execution_count": 21,
   "id": "c7ee15ad",
   "metadata": {
    "execution": {
     "iopub.execute_input": "2022-12-27T11:12:04.703520Z",
     "iopub.status.busy": "2022-12-27T11:12:04.702429Z",
     "iopub.status.idle": "2022-12-27T11:12:04.773045Z",
     "shell.execute_reply": "2022-12-27T11:12:04.772007Z"
    },
    "papermill": {
     "duration": 0.088505,
     "end_time": "2022-12-27T11:12:04.776012",
     "exception": false,
     "start_time": "2022-12-27T11:12:04.687507",
     "status": "completed"
    },
    "tags": []
   },
   "outputs": [],
   "source": [
    "# equivalently: combine fit and transform into a single step\n",
    "X_train_dtm = vect.fit_transform(X_train)"
   ]
  },
  {
   "cell_type": "code",
   "execution_count": 22,
   "id": "8aaf276d",
   "metadata": {
    "execution": {
     "iopub.execute_input": "2022-12-27T11:12:04.803077Z",
     "iopub.status.busy": "2022-12-27T11:12:04.801608Z",
     "iopub.status.idle": "2022-12-27T11:12:04.810321Z",
     "shell.execute_reply": "2022-12-27T11:12:04.808904Z"
    },
    "papermill": {
     "duration": 0.025023,
     "end_time": "2022-12-27T11:12:04.813042",
     "exception": false,
     "start_time": "2022-12-27T11:12:04.788019",
     "status": "completed"
    },
    "tags": []
   },
   "outputs": [
    {
     "data": {
      "text/plain": [
       "<4179x7996 sparse matrix of type '<class 'numpy.int64'>'\n",
       "\twith 34796 stored elements in Compressed Sparse Row format>"
      ]
     },
     "execution_count": 22,
     "metadata": {},
     "output_type": "execute_result"
    }
   ],
   "source": [
    "# examine the document-term matrix\n",
    "X_train_dtm"
   ]
  },
  {
   "cell_type": "code",
   "execution_count": 23,
   "id": "201a7171",
   "metadata": {
    "execution": {
     "iopub.execute_input": "2022-12-27T11:12:04.842432Z",
     "iopub.status.busy": "2022-12-27T11:12:04.842014Z",
     "iopub.status.idle": "2022-12-27T11:12:04.866144Z",
     "shell.execute_reply": "2022-12-27T11:12:04.864678Z"
    },
    "papermill": {
     "duration": 0.043116,
     "end_time": "2022-12-27T11:12:04.869221",
     "exception": false,
     "start_time": "2022-12-27T11:12:04.826105",
     "status": "completed"
    },
    "tags": []
   },
   "outputs": [
    {
     "data": {
      "text/plain": [
       "<1393x7996 sparse matrix of type '<class 'numpy.int64'>'\n",
       "\twith 9971 stored elements in Compressed Sparse Row format>"
      ]
     },
     "execution_count": 23,
     "metadata": {},
     "output_type": "execute_result"
    }
   ],
   "source": [
    "# transform testing data (using fitted vocabulary) into a document-term matrix\n",
    "X_test_dtm = vect.transform(X_test)\n",
    "X_test_dtm"
   ]
  },
  {
   "cell_type": "code",
   "execution_count": 24,
   "id": "578b5822",
   "metadata": {
    "execution": {
     "iopub.execute_input": "2022-12-27T11:12:04.896469Z",
     "iopub.status.busy": "2022-12-27T11:12:04.895983Z",
     "iopub.status.idle": "2022-12-27T11:12:04.912054Z",
     "shell.execute_reply": "2022-12-27T11:12:04.910914Z"
    },
    "papermill": {
     "duration": 0.032272,
     "end_time": "2022-12-27T11:12:04.914436",
     "exception": false,
     "start_time": "2022-12-27T11:12:04.882164",
     "status": "completed"
    },
    "tags": []
   },
   "outputs": [
    {
     "data": {
      "text/plain": [
       "<4179x7996 sparse matrix of type '<class 'numpy.float64'>'\n",
       "\twith 34796 stored elements in Compressed Sparse Row format>"
      ]
     },
     "execution_count": 24,
     "metadata": {},
     "output_type": "execute_result"
    }
   ],
   "source": [
    "from sklearn.feature_extraction.text import TfidfTransformer\n",
    "\n",
    "tfidf_transformer = TfidfTransformer()\n",
    "tfidf_transformer.fit(X_train_dtm)\n",
    "tfidf_transformer.transform(X_train_dtm)"
   ]
  },
  {
   "cell_type": "markdown",
   "id": "84136e30",
   "metadata": {
    "papermill": {
     "duration": 0.012085,
     "end_time": "2022-12-27T11:12:04.939146",
     "exception": false,
     "start_time": "2022-12-27T11:12:04.927061",
     "status": "completed"
    },
    "tags": []
   },
   "source": [
    "# Building and Evaluation of the Model\n",
    "We will use multinomial Naive Bayes:\n",
    "\n",
    "The multinomial Naive Bayes classifier is suitable for classification with discrete features (e.g., word counts for text classification). The multinomial distribution normally requires integer feature counts. However, in practice, fractional counts such as tf-idf may also work."
   ]
  },
  {
   "cell_type": "code",
   "execution_count": 25,
   "id": "75f5855a",
   "metadata": {
    "execution": {
     "iopub.execute_input": "2022-12-27T11:12:04.966875Z",
     "iopub.status.busy": "2022-12-27T11:12:04.966145Z",
     "iopub.status.idle": "2022-12-27T11:12:04.974798Z",
     "shell.execute_reply": "2022-12-27T11:12:04.973214Z"
    },
    "papermill": {
     "duration": 0.025746,
     "end_time": "2022-12-27T11:12:04.977781",
     "exception": false,
     "start_time": "2022-12-27T11:12:04.952035",
     "status": "completed"
    },
    "tags": []
   },
   "outputs": [],
   "source": [
    "# import and instantiate a Multinomial Naive Bayes model\n",
    "from sklearn.naive_bayes import MultinomialNB\n",
    "nb = MultinomialNB()"
   ]
  },
  {
   "cell_type": "code",
   "execution_count": 26,
   "id": "4f9f3bbf",
   "metadata": {
    "execution": {
     "iopub.execute_input": "2022-12-27T11:12:05.004373Z",
     "iopub.status.busy": "2022-12-27T11:12:05.003901Z",
     "iopub.status.idle": "2022-12-27T11:12:05.017838Z",
     "shell.execute_reply": "2022-12-27T11:12:05.016817Z"
    },
    "papermill": {
     "duration": 0.031363,
     "end_time": "2022-12-27T11:12:05.021491",
     "exception": false,
     "start_time": "2022-12-27T11:12:04.990128",
     "status": "completed"
    },
    "tags": []
   },
   "outputs": [
    {
     "name": "stdout",
     "output_type": "stream",
     "text": [
      "CPU times: user 5.25 ms, sys: 48 µs, total: 5.3 ms\n",
      "Wall time: 5.06 ms\n"
     ]
    },
    {
     "data": {
      "text/plain": [
       "MultinomialNB()"
      ]
     },
     "execution_count": 26,
     "metadata": {},
     "output_type": "execute_result"
    }
   ],
   "source": [
    "# train the model using X_train_dtm (timing it with an IPython \"magic command\")\n",
    "%time nb.fit(X_train_dtm, y_train)"
   ]
  },
  {
   "cell_type": "code",
   "execution_count": 27,
   "id": "054cf3c5",
   "metadata": {
    "execution": {
     "iopub.execute_input": "2022-12-27T11:12:05.051055Z",
     "iopub.status.busy": "2022-12-27T11:12:05.050666Z",
     "iopub.status.idle": "2022-12-27T11:12:05.055777Z",
     "shell.execute_reply": "2022-12-27T11:12:05.054901Z"
    },
    "papermill": {
     "duration": 0.022879,
     "end_time": "2022-12-27T11:12:05.058001",
     "exception": false,
     "start_time": "2022-12-27T11:12:05.035122",
     "status": "completed"
    },
    "tags": []
   },
   "outputs": [],
   "source": [
    "# make class predictions for X_test_dtm\n",
    "y_pred_class = nb.predict(X_test_dtm)"
   ]
  },
  {
   "cell_type": "code",
   "execution_count": 28,
   "id": "81fc1ac1",
   "metadata": {
    "execution": {
     "iopub.execute_input": "2022-12-27T11:12:05.087363Z",
     "iopub.status.busy": "2022-12-27T11:12:05.086623Z",
     "iopub.status.idle": "2022-12-27T11:12:05.093971Z",
     "shell.execute_reply": "2022-12-27T11:12:05.093113Z"
    },
    "papermill": {
     "duration": 0.024454,
     "end_time": "2022-12-27T11:12:05.096238",
     "exception": false,
     "start_time": "2022-12-27T11:12:05.071784",
     "status": "completed"
    },
    "tags": []
   },
   "outputs": [
    {
     "data": {
      "text/plain": [
       "0.9827709978463748"
      ]
     },
     "execution_count": 28,
     "metadata": {},
     "output_type": "execute_result"
    }
   ],
   "source": [
    "# calculate accuracy of class predictions\n",
    "from sklearn import metrics\n",
    "metrics.accuracy_score(y_test, y_pred_class)"
   ]
  },
  {
   "cell_type": "code",
   "execution_count": 29,
   "id": "4409350c",
   "metadata": {
    "execution": {
     "iopub.execute_input": "2022-12-27T11:12:05.126576Z",
     "iopub.status.busy": "2022-12-27T11:12:05.125814Z",
     "iopub.status.idle": "2022-12-27T11:12:05.133668Z",
     "shell.execute_reply": "2022-12-27T11:12:05.132192Z"
    },
    "papermill": {
     "duration": 0.025112,
     "end_time": "2022-12-27T11:12:05.136099",
     "exception": false,
     "start_time": "2022-12-27T11:12:05.110987",
     "status": "completed"
    },
    "tags": []
   },
   "outputs": [
    {
     "data": {
      "text/plain": [
       "array([[1205,    8],\n",
       "       [  16,  164]])"
      ]
     },
     "execution_count": 29,
     "metadata": {},
     "output_type": "execute_result"
    }
   ],
   "source": [
    "# print the confusion matrix\n",
    "metrics.confusion_matrix(y_test, y_pred_class)"
   ]
  },
  {
   "cell_type": "code",
   "execution_count": 30,
   "id": "51c339e9",
   "metadata": {
    "execution": {
     "iopub.execute_input": "2022-12-27T11:12:05.167433Z",
     "iopub.status.busy": "2022-12-27T11:12:05.166662Z",
     "iopub.status.idle": "2022-12-27T11:12:05.172982Z",
     "shell.execute_reply": "2022-12-27T11:12:05.171899Z"
    },
    "papermill": {
     "duration": 0.025384,
     "end_time": "2022-12-27T11:12:05.175295",
     "exception": false,
     "start_time": "2022-12-27T11:12:05.149911",
     "status": "completed"
    },
    "tags": []
   },
   "outputs": [
    {
     "data": {
      "text/plain": [
       "(1393,)"
      ]
     },
     "execution_count": 30,
     "metadata": {},
     "output_type": "execute_result"
    }
   ],
   "source": [
    "X_test.shape"
   ]
  },
  {
   "cell_type": "code",
   "execution_count": 31,
   "id": "6fd16393",
   "metadata": {
    "execution": {
     "iopub.execute_input": "2022-12-27T11:12:05.204702Z",
     "iopub.status.busy": "2022-12-27T11:12:05.204286Z",
     "iopub.status.idle": "2022-12-27T11:12:05.212164Z",
     "shell.execute_reply": "2022-12-27T11:12:05.211278Z"
    },
    "papermill": {
     "duration": 0.025689,
     "end_time": "2022-12-27T11:12:05.214565",
     "exception": false,
     "start_time": "2022-12-27T11:12:05.188876",
     "status": "completed"
    },
    "tags": []
   },
   "outputs": [
    {
     "data": {
      "text/plain": [
       "2418    Madamregret disturbancemight receive reference...\n",
       "4598                                laid airtel line rest\n",
       "386                                   Customer place call\n",
       "1289    HeyGreat dealFarm tour 9am 5pm 95pax 50 deposi...\n",
       "5094    Hi ShanilRakhesh herethanksi exchanged uncut d...\n",
       "494                                      free nowcan call\n",
       "759     Call youcarlos isare phones vibrate acting mig...\n",
       "3140                                  Customer place call\n",
       "Name: clean_msg, dtype: object"
      ]
     },
     "execution_count": 31,
     "metadata": {},
     "output_type": "execute_result"
    }
   ],
   "source": [
    "# print message text for false positives (ham incorrectly classifier)\n",
    "# X_test[(y_pred_class==1) & (y_test==0)]\n",
    "X_test[y_pred_class > y_test]"
   ]
  },
  {
   "cell_type": "code",
   "execution_count": 32,
   "id": "dc339608",
   "metadata": {
    "execution": {
     "iopub.execute_input": "2022-12-27T11:12:05.244240Z",
     "iopub.status.busy": "2022-12-27T11:12:05.243511Z",
     "iopub.status.idle": "2022-12-27T11:12:05.251268Z",
     "shell.execute_reply": "2022-12-27T11:12:05.250480Z"
    },
    "papermill": {
     "duration": 0.025178,
     "end_time": "2022-12-27T11:12:05.253404",
     "exception": false,
     "start_time": "2022-12-27T11:12:05.228226",
     "status": "completed"
    },
    "tags": []
   },
   "outputs": [
    {
     "data": {
      "text/plain": [
       "4674    Hi babe Chloe r smashed saturday night great w...\n",
       "3528    Xmas New Years Eve tickets sale club day 10am ...\n",
       "3417    LIFE never much fun great came made truly spec...\n",
       "2773    come takes little time child afraid dark becom...\n",
       "1960    Guess Somebody know secretly fancies Wanna fin...\n",
       "5       FreeMsg Hey darling 3 weeks word back Id like ...\n",
       "2078                         85233 FREERingtoneReply REAL\n",
       "1457    CLAIRE havin borin time alone wanna cum 2nite ...\n",
       "190     unique enough Find 30th August wwwareyouunique...\n",
       "2429    Guess IThis first time created web page WWWASJ...\n",
       "3057    unsubscribed services Get tons sexy babes hunk...\n",
       "1021    Guess Somebody know secretly fancies Wanna fin...\n",
       "4067    TBSPERSOLVO chasing us since Sept forå£38 defi...\n",
       "3358         Sorry missed call lets talk time 07090201529\n",
       "2821    ROMCAPspam Everyone around responding well pre...\n",
       "2247    Back work 2morro half term C 2nite sexy passio...\n",
       "Name: clean_msg, dtype: object"
      ]
     },
     "execution_count": 32,
     "metadata": {},
     "output_type": "execute_result"
    }
   ],
   "source": [
    "# print message text for false negatives (spam incorrectly classifier)\n",
    "X_test[y_pred_class < y_test]"
   ]
  },
  {
   "cell_type": "code",
   "execution_count": 33,
   "id": "e32aade3",
   "metadata": {
    "execution": {
     "iopub.execute_input": "2022-12-27T11:12:05.283785Z",
     "iopub.status.busy": "2022-12-27T11:12:05.283043Z",
     "iopub.status.idle": "2022-12-27T11:12:05.290668Z",
     "shell.execute_reply": "2022-12-27T11:12:05.289399Z"
    },
    "papermill": {
     "duration": 0.026306,
     "end_time": "2022-12-27T11:12:05.293741",
     "exception": false,
     "start_time": "2022-12-27T11:12:05.267435",
     "status": "completed"
    },
    "tags": []
   },
   "outputs": [
    {
     "data": {
      "text/plain": [
       "'Hi probably much fun get message thought id txt cos bored james farting night'"
      ]
     },
     "execution_count": 33,
     "metadata": {},
     "output_type": "execute_result"
    }
   ],
   "source": [
    "# example of false negative \n",
    "X_test[4949]"
   ]
  },
  {
   "cell_type": "code",
   "execution_count": 34,
   "id": "cff8f846",
   "metadata": {
    "execution": {
     "iopub.execute_input": "2022-12-27T11:12:05.323794Z",
     "iopub.status.busy": "2022-12-27T11:12:05.323342Z",
     "iopub.status.idle": "2022-12-27T11:12:05.333288Z",
     "shell.execute_reply": "2022-12-27T11:12:05.331932Z"
    },
    "papermill": {
     "duration": 0.028243,
     "end_time": "2022-12-27T11:12:05.336158",
     "exception": false,
     "start_time": "2022-12-27T11:12:05.307915",
     "status": "completed"
    },
    "tags": []
   },
   "outputs": [
    {
     "data": {
      "text/plain": [
       "array([2.11903975e-02, 3.97831612e-04, 1.06470895e-03, ...,\n",
       "       1.31939653e-02, 9.99821127e-05, 6.04083365e-06])"
      ]
     },
     "execution_count": 34,
     "metadata": {},
     "output_type": "execute_result"
    }
   ],
   "source": [
    "# calculate predicted probabilities for X_test_dtm (poorly calibrated)\n",
    "y_pred_prob = nb.predict_proba(X_test_dtm)[:, 1]\n",
    "y_pred_prob"
   ]
  },
  {
   "cell_type": "code",
   "execution_count": 35,
   "id": "04d75ac7",
   "metadata": {
    "execution": {
     "iopub.execute_input": "2022-12-27T11:12:05.365973Z",
     "iopub.status.busy": "2022-12-27T11:12:05.365562Z",
     "iopub.status.idle": "2022-12-27T11:12:05.376043Z",
     "shell.execute_reply": "2022-12-27T11:12:05.374701Z"
    },
    "papermill": {
     "duration": 0.029025,
     "end_time": "2022-12-27T11:12:05.378926",
     "exception": false,
     "start_time": "2022-12-27T11:12:05.349901",
     "status": "completed"
    },
    "tags": []
   },
   "outputs": [
    {
     "data": {
      "text/plain": [
       "0.9774342768159751"
      ]
     },
     "execution_count": 35,
     "metadata": {},
     "output_type": "execute_result"
    }
   ],
   "source": [
    "# calculate AUC\n",
    "metrics.roc_auc_score(y_test, y_pred_prob)"
   ]
  },
  {
   "cell_type": "code",
   "execution_count": 36,
   "id": "6fda4b30",
   "metadata": {
    "execution": {
     "iopub.execute_input": "2022-12-27T11:12:05.409853Z",
     "iopub.status.busy": "2022-12-27T11:12:05.409355Z",
     "iopub.status.idle": "2022-12-27T11:12:05.493941Z",
     "shell.execute_reply": "2022-12-27T11:12:05.492311Z"
    },
    "papermill": {
     "duration": 0.103282,
     "end_time": "2022-12-27T11:12:05.496797",
     "exception": false,
     "start_time": "2022-12-27T11:12:05.393515",
     "status": "completed"
    },
    "tags": []
   },
   "outputs": [
    {
     "data": {
      "text/plain": [
       "Pipeline(steps=[('bow', CountVectorizer()), ('tfid', TfidfTransformer()),\n",
       "                ('model', MultinomialNB())])"
      ]
     },
     "execution_count": 36,
     "metadata": {},
     "output_type": "execute_result"
    }
   ],
   "source": [
    "from sklearn.feature_extraction.text import TfidfTransformer\n",
    "from sklearn.pipeline import Pipeline\n",
    "\n",
    "pipe = Pipeline([('bow', CountVectorizer()), \n",
    "                 ('tfid', TfidfTransformer()),  \n",
    "                 ('model', MultinomialNB())])\n",
    "pipe.fit(X_train, y_train)"
   ]
  },
  {
   "cell_type": "code",
   "execution_count": 37,
   "id": "f4c15753",
   "metadata": {
    "execution": {
     "iopub.execute_input": "2022-12-27T11:12:05.527902Z",
     "iopub.status.busy": "2022-12-27T11:12:05.527505Z",
     "iopub.status.idle": "2022-12-27T11:12:05.551833Z",
     "shell.execute_reply": "2022-12-27T11:12:05.550627Z"
    },
    "papermill": {
     "duration": 0.043518,
     "end_time": "2022-12-27T11:12:05.554914",
     "exception": false,
     "start_time": "2022-12-27T11:12:05.511396",
     "status": "completed"
    },
    "tags": []
   },
   "outputs": [],
   "source": [
    "y_pred = pipe.predict(X_test)"
   ]
  },
  {
   "cell_type": "code",
   "execution_count": 38,
   "id": "3d8b076e",
   "metadata": {
    "execution": {
     "iopub.execute_input": "2022-12-27T11:12:05.586357Z",
     "iopub.status.busy": "2022-12-27T11:12:05.585966Z",
     "iopub.status.idle": "2022-12-27T11:12:05.594277Z",
     "shell.execute_reply": "2022-12-27T11:12:05.592770Z"
    },
    "papermill": {
     "duration": 0.027414,
     "end_time": "2022-12-27T11:12:05.597008",
     "exception": false,
     "start_time": "2022-12-27T11:12:05.569594",
     "status": "completed"
    },
    "tags": []
   },
   "outputs": [
    {
     "data": {
      "text/plain": [
       "0.9669777458722182"
      ]
     },
     "execution_count": 38,
     "metadata": {},
     "output_type": "execute_result"
    }
   ],
   "source": [
    "metrics.accuracy_score(y_test, y_pred)"
   ]
  },
  {
   "cell_type": "code",
   "execution_count": 39,
   "id": "965193de",
   "metadata": {
    "execution": {
     "iopub.execute_input": "2022-12-27T11:12:05.629424Z",
     "iopub.status.busy": "2022-12-27T11:12:05.628949Z",
     "iopub.status.idle": "2022-12-27T11:12:05.639737Z",
     "shell.execute_reply": "2022-12-27T11:12:05.638385Z"
    },
    "papermill": {
     "duration": 0.031192,
     "end_time": "2022-12-27T11:12:05.642917",
     "exception": false,
     "start_time": "2022-12-27T11:12:05.611725",
     "status": "completed"
    },
    "tags": []
   },
   "outputs": [
    {
     "data": {
      "text/plain": [
       "array([[1213,    0],\n",
       "       [  46,  134]])"
      ]
     },
     "execution_count": 39,
     "metadata": {},
     "output_type": "execute_result"
    }
   ],
   "source": [
    "metrics.confusion_matrix(y_test, y_pred)"
   ]
  }
 ],
 "metadata": {
  "kernelspec": {
   "display_name": "Python 3",
   "language": "python",
   "name": "python3"
  },
  "language_info": {
   "codemirror_mode": {
    "name": "ipython",
    "version": 3
   },
   "file_extension": ".py",
   "mimetype": "text/x-python",
   "name": "python",
   "nbconvert_exporter": "python",
   "pygments_lexer": "ipython3",
   "version": "3.7.12"
  },
  "papermill": {
   "default_parameters": {},
   "duration": 16.240541,
   "end_time": "2022-12-27T11:12:06.581870",
   "environment_variables": {},
   "exception": null,
   "input_path": "__notebook__.ipynb",
   "output_path": "__notebook__.ipynb",
   "parameters": {},
   "start_time": "2022-12-27T11:11:50.341329",
   "version": "2.3.4"
  }
 },
 "nbformat": 4,
 "nbformat_minor": 5
}
